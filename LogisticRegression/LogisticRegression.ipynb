{
 "cells": [
  {
   "cell_type": "markdown",
   "metadata": {},
   "source": [
    "# <p style=\"font-family:JetBrains Mono; font-weight:bold; letter-spacing: 2px; color:#007fd4; font-size:140%; text-align:left;padding: 0px; border-bottom: 3px solid #007fd4\"> Logistic Regression Classifier</p>"
   ]
  },
  {
   "cell_type": "code",
   "execution_count": 23,
   "metadata": {},
   "outputs": [],
   "source": [
    "import numpy as np\n",
    "import pandas as pd\n",
    "import matplotlib.pyplot as plt\n",
    "import seaborn as sns\n",
    "\n",
    "\n",
    "import warnings\n",
    "warnings.filterwarnings(\"ignore\")\n",
    "pd.set_option(\"display.max_columns\", None)"
   ]
  },
  {
   "cell_type": "code",
   "execution_count": 9,
   "metadata": {},
   "outputs": [],
   "source": [
    "# Define the style\n",
    "rc = {\n",
    "    \"axes.facecolor\": \"#dcf5f7\",\n",
    "    \"figure.facecolor\": \"#dcf5f7\",\n",
    "    \"axes.edgecolor\": \"#000000\",\n",
    "    \"grid.color\": \"#094863\",\n",
    "    \"font.family\": \"arial\",\n",
    "    \"axes.labelcolor\": \"#000000\",\n",
    "    \"xtick.color\": \"#000000\",\n",
    "    \"ytick.color\": \"#000000\",\n",
    "    \"grid.alpha\": 0.4,\n",
    "}\n",
    "sns.set(rc=rc)"
   ]
  },
  {
   "cell_type": "code",
   "execution_count": 47,
   "metadata": {},
   "outputs": [],
   "source": [
    "class LRModel:\n",
    "\n",
    "    def __init__(self):\n",
    "        pass\n",
    "\n",
    "    def categories_validation(self, train, test):\n",
    "        print(\"The categories mismatch in training and test dataset\")\n",
    "        categorical_features_test = test.select_dtypes(include=['object']).columns.to_list()\n",
    "\n",
    "        equal_mismatch = []\n",
    "\n",
    "        for feature in categorical_features_test:\n",
    "            train_unique = set(train[feature].unique()) \n",
    "            test_unique = set(test[feature].unique())\n",
    "            \n",
    "            if train_unique != test_unique:\n",
    "                equal_mismatch.append(feature)\n",
    "                \n",
    "        return equal_mismatch\n",
    "    \n",
    "    def plot_mi_score(self, score):\n",
    "        # Define a colorful color palette for the bars\n",
    "        colors = sns.color_palette('YlGnBu', n_colors=len(score))\n",
    "        \n",
    "        plt.figure(figsize=(13, 7))\n",
    "        sns.barplot(x=score.values, y=score.index, orient='h', palette=colors)\n",
    "        plt.title('Mutual Information Scores', color='black', fontweight='bold')\n",
    "        plt.ylabel('Features', color='black', fontweight='bold')\n",
    "        plt.xticks(rotation=40, color='red')\n",
    "\n",
    "        # Add the value labels to the bars\n",
    "        for index, value in enumerate(score.values):\n",
    "            plt.text(value, index, f'{value:.2f}', color='black', ha='left', va='center')\n",
    "\n",
    "        plt.tight_layout()  \n",
    "        return plt.show()\n",
    "\n",
    "\n",
    "\n",
    "# Initialize the class\n",
    "lrModel = LRModel()\n"
   ]
  },
  {
   "cell_type": "markdown",
   "metadata": {},
   "source": [
    "## <p style=\"font-family:JetBrains Mono; font-weight:bold; letter-spacing: 2px; color:#007fd4; font-size:140%; text-align:left;padding: 0px;\"> Read Data </p>"
   ]
  },
  {
   "cell_type": "code",
   "execution_count": 7,
   "metadata": {},
   "outputs": [],
   "source": [
    "# Read the data from the source\n",
    "train = pd.read_csv(\"data/train.csv\")\n",
    "test = pd.read_csv(\"data/test.csv\")"
   ]
  },
  {
   "cell_type": "code",
   "execution_count": 11,
   "metadata": {},
   "outputs": [],
   "source": [
    "# Create copies of the train and test DataFrames\n",
    "df_train = train.copy()\n",
    "df_test = test.copy()"
   ]
  },
  {
   "cell_type": "code",
   "execution_count": 12,
   "metadata": {},
   "outputs": [
    {
     "name": "stdout",
     "output_type": "stream",
     "text": [
      "Train Shape:  (1235, 29)\n",
      "Test Shape:  (824, 28)\n"
     ]
    }
   ],
   "source": [
    "print(\"Train Shape: \", df_train.shape)\n",
    "print(\"Test Shape: \", df_test.shape)"
   ]
  },
  {
   "cell_type": "markdown",
   "metadata": {},
   "source": [
    "## <p style=\"font-family:JetBrains Mono; font-weight:bold; letter-spacing: 2px; color:#007fd4; font-size:140%; text-align:left;padding: 0px;\"> Basic Data Exploration </p>"
   ]
  },
  {
   "cell_type": "code",
   "execution_count": 14,
   "metadata": {},
   "outputs": [
    {
     "data": {
      "text/html": [
       "<div>\n",
       "<style scoped>\n",
       "    .dataframe tbody tr th:only-of-type {\n",
       "        vertical-align: middle;\n",
       "    }\n",
       "\n",
       "    .dataframe tbody tr th {\n",
       "        vertical-align: top;\n",
       "    }\n",
       "\n",
       "    .dataframe thead th {\n",
       "        text-align: right;\n",
       "    }\n",
       "</style>\n",
       "<table border=\"1\" class=\"dataframe\">\n",
       "  <thead>\n",
       "    <tr style=\"text-align: right;\">\n",
       "      <th></th>\n",
       "      <th>id</th>\n",
       "      <th>surgery</th>\n",
       "      <th>age</th>\n",
       "      <th>hospital_number</th>\n",
       "      <th>rectal_temp</th>\n",
       "      <th>pulse</th>\n",
       "      <th>respiratory_rate</th>\n",
       "      <th>temp_of_extremities</th>\n",
       "      <th>peripheral_pulse</th>\n",
       "      <th>mucous_membrane</th>\n",
       "      <th>capillary_refill_time</th>\n",
       "      <th>pain</th>\n",
       "      <th>peristalsis</th>\n",
       "      <th>abdominal_distention</th>\n",
       "      <th>nasogastric_tube</th>\n",
       "      <th>nasogastric_reflux</th>\n",
       "      <th>nasogastric_reflux_ph</th>\n",
       "      <th>rectal_exam_feces</th>\n",
       "      <th>abdomen</th>\n",
       "      <th>packed_cell_volume</th>\n",
       "      <th>total_protein</th>\n",
       "      <th>abdomo_appearance</th>\n",
       "      <th>abdomo_protein</th>\n",
       "      <th>surgical_lesion</th>\n",
       "      <th>lesion_1</th>\n",
       "      <th>lesion_2</th>\n",
       "      <th>lesion_3</th>\n",
       "      <th>cp_data</th>\n",
       "      <th>outcome</th>\n",
       "    </tr>\n",
       "  </thead>\n",
       "  <tbody>\n",
       "    <tr>\n",
       "      <th>0</th>\n",
       "      <td>0</td>\n",
       "      <td>yes</td>\n",
       "      <td>adult</td>\n",
       "      <td>530001</td>\n",
       "      <td>38.1</td>\n",
       "      <td>132.0</td>\n",
       "      <td>24.0</td>\n",
       "      <td>cool</td>\n",
       "      <td>reduced</td>\n",
       "      <td>dark_cyanotic</td>\n",
       "      <td>more_3_sec</td>\n",
       "      <td>depressed</td>\n",
       "      <td>absent</td>\n",
       "      <td>slight</td>\n",
       "      <td>slight</td>\n",
       "      <td>less_1_liter</td>\n",
       "      <td>6.5</td>\n",
       "      <td>decreased</td>\n",
       "      <td>distend_small</td>\n",
       "      <td>57.0</td>\n",
       "      <td>8.5</td>\n",
       "      <td>serosanguious</td>\n",
       "      <td>3.4</td>\n",
       "      <td>yes</td>\n",
       "      <td>2209</td>\n",
       "      <td>0</td>\n",
       "      <td>0</td>\n",
       "      <td>no</td>\n",
       "      <td>died</td>\n",
       "    </tr>\n",
       "    <tr>\n",
       "      <th>1</th>\n",
       "      <td>1</td>\n",
       "      <td>yes</td>\n",
       "      <td>adult</td>\n",
       "      <td>533836</td>\n",
       "      <td>37.5</td>\n",
       "      <td>88.0</td>\n",
       "      <td>12.0</td>\n",
       "      <td>cool</td>\n",
       "      <td>normal</td>\n",
       "      <td>pale_cyanotic</td>\n",
       "      <td>more_3_sec</td>\n",
       "      <td>mild_pain</td>\n",
       "      <td>absent</td>\n",
       "      <td>moderate</td>\n",
       "      <td>none</td>\n",
       "      <td>more_1_liter</td>\n",
       "      <td>2.0</td>\n",
       "      <td>absent</td>\n",
       "      <td>distend_small</td>\n",
       "      <td>33.0</td>\n",
       "      <td>64.0</td>\n",
       "      <td>serosanguious</td>\n",
       "      <td>2.0</td>\n",
       "      <td>yes</td>\n",
       "      <td>2208</td>\n",
       "      <td>0</td>\n",
       "      <td>0</td>\n",
       "      <td>no</td>\n",
       "      <td>euthanized</td>\n",
       "    </tr>\n",
       "    <tr>\n",
       "      <th>2</th>\n",
       "      <td>2</td>\n",
       "      <td>yes</td>\n",
       "      <td>adult</td>\n",
       "      <td>529812</td>\n",
       "      <td>38.3</td>\n",
       "      <td>120.0</td>\n",
       "      <td>28.0</td>\n",
       "      <td>cool</td>\n",
       "      <td>reduced</td>\n",
       "      <td>pale_pink</td>\n",
       "      <td>less_3_sec</td>\n",
       "      <td>extreme_pain</td>\n",
       "      <td>hypomotile</td>\n",
       "      <td>moderate</td>\n",
       "      <td>slight</td>\n",
       "      <td>none</td>\n",
       "      <td>3.5</td>\n",
       "      <td>NaN</td>\n",
       "      <td>distend_large</td>\n",
       "      <td>37.0</td>\n",
       "      <td>6.4</td>\n",
       "      <td>serosanguious</td>\n",
       "      <td>3.4</td>\n",
       "      <td>yes</td>\n",
       "      <td>5124</td>\n",
       "      <td>0</td>\n",
       "      <td>0</td>\n",
       "      <td>no</td>\n",
       "      <td>lived</td>\n",
       "    </tr>\n",
       "    <tr>\n",
       "      <th>3</th>\n",
       "      <td>3</td>\n",
       "      <td>yes</td>\n",
       "      <td>adult</td>\n",
       "      <td>5262541</td>\n",
       "      <td>37.1</td>\n",
       "      <td>72.0</td>\n",
       "      <td>30.0</td>\n",
       "      <td>cold</td>\n",
       "      <td>reduced</td>\n",
       "      <td>pale_pink</td>\n",
       "      <td>more_3_sec</td>\n",
       "      <td>mild_pain</td>\n",
       "      <td>hypomotile</td>\n",
       "      <td>moderate</td>\n",
       "      <td>slight</td>\n",
       "      <td>more_1_liter</td>\n",
       "      <td>2.0</td>\n",
       "      <td>decreased</td>\n",
       "      <td>distend_small</td>\n",
       "      <td>53.0</td>\n",
       "      <td>7.0</td>\n",
       "      <td>cloudy</td>\n",
       "      <td>3.9</td>\n",
       "      <td>yes</td>\n",
       "      <td>2208</td>\n",
       "      <td>0</td>\n",
       "      <td>0</td>\n",
       "      <td>yes</td>\n",
       "      <td>lived</td>\n",
       "    </tr>\n",
       "    <tr>\n",
       "      <th>4</th>\n",
       "      <td>4</td>\n",
       "      <td>no</td>\n",
       "      <td>adult</td>\n",
       "      <td>5299629</td>\n",
       "      <td>38.0</td>\n",
       "      <td>52.0</td>\n",
       "      <td>48.0</td>\n",
       "      <td>normal</td>\n",
       "      <td>normal</td>\n",
       "      <td>normal_pink</td>\n",
       "      <td>less_3_sec</td>\n",
       "      <td>alert</td>\n",
       "      <td>hypomotile</td>\n",
       "      <td>none</td>\n",
       "      <td>slight</td>\n",
       "      <td>less_1_liter</td>\n",
       "      <td>7.0</td>\n",
       "      <td>normal</td>\n",
       "      <td>normal</td>\n",
       "      <td>47.0</td>\n",
       "      <td>7.3</td>\n",
       "      <td>cloudy</td>\n",
       "      <td>2.6</td>\n",
       "      <td>no</td>\n",
       "      <td>0</td>\n",
       "      <td>0</td>\n",
       "      <td>0</td>\n",
       "      <td>yes</td>\n",
       "      <td>lived</td>\n",
       "    </tr>\n",
       "    <tr>\n",
       "      <th>5</th>\n",
       "      <td>5</td>\n",
       "      <td>no</td>\n",
       "      <td>adult</td>\n",
       "      <td>529642</td>\n",
       "      <td>38.1</td>\n",
       "      <td>56.0</td>\n",
       "      <td>32.0</td>\n",
       "      <td>normal</td>\n",
       "      <td>normal</td>\n",
       "      <td>bright_pink</td>\n",
       "      <td>less_3_sec</td>\n",
       "      <td>depressed</td>\n",
       "      <td>hypomotile</td>\n",
       "      <td>none</td>\n",
       "      <td>none</td>\n",
       "      <td>more_1_liter</td>\n",
       "      <td>5.0</td>\n",
       "      <td>decreased</td>\n",
       "      <td>firm</td>\n",
       "      <td>49.0</td>\n",
       "      <td>8.0</td>\n",
       "      <td>cloudy</td>\n",
       "      <td>2.8</td>\n",
       "      <td>no</td>\n",
       "      <td>0</td>\n",
       "      <td>0</td>\n",
       "      <td>0</td>\n",
       "      <td>yes</td>\n",
       "      <td>lived</td>\n",
       "    </tr>\n",
       "    <tr>\n",
       "      <th>6</th>\n",
       "      <td>6</td>\n",
       "      <td>yes</td>\n",
       "      <td>adult</td>\n",
       "      <td>534787</td>\n",
       "      <td>38.3</td>\n",
       "      <td>36.0</td>\n",
       "      <td>16.0</td>\n",
       "      <td>cool</td>\n",
       "      <td>reduced</td>\n",
       "      <td>normal_pink</td>\n",
       "      <td>less_3_sec</td>\n",
       "      <td>severe_pain</td>\n",
       "      <td>normal</td>\n",
       "      <td>slight</td>\n",
       "      <td>none</td>\n",
       "      <td>more_1_liter</td>\n",
       "      <td>2.0</td>\n",
       "      <td>decreased</td>\n",
       "      <td>NaN</td>\n",
       "      <td>43.0</td>\n",
       "      <td>75.0</td>\n",
       "      <td>cloudy</td>\n",
       "      <td>1.0</td>\n",
       "      <td>no</td>\n",
       "      <td>3111</td>\n",
       "      <td>0</td>\n",
       "      <td>0</td>\n",
       "      <td>yes</td>\n",
       "      <td>euthanized</td>\n",
       "    </tr>\n",
       "    <tr>\n",
       "      <th>7</th>\n",
       "      <td>7</td>\n",
       "      <td>no</td>\n",
       "      <td>adult</td>\n",
       "      <td>529461</td>\n",
       "      <td>39.2</td>\n",
       "      <td>114.0</td>\n",
       "      <td>24.0</td>\n",
       "      <td>cool</td>\n",
       "      <td>reduced</td>\n",
       "      <td>pale_cyanotic</td>\n",
       "      <td>more_3_sec</td>\n",
       "      <td>mild_pain</td>\n",
       "      <td>hypomotile</td>\n",
       "      <td>moderate</td>\n",
       "      <td>slight</td>\n",
       "      <td>none</td>\n",
       "      <td>4.5</td>\n",
       "      <td>absent</td>\n",
       "      <td>distend_small</td>\n",
       "      <td>57.0</td>\n",
       "      <td>7.6</td>\n",
       "      <td>serosanguious</td>\n",
       "      <td>4.5</td>\n",
       "      <td>yes</td>\n",
       "      <td>2207</td>\n",
       "      <td>0</td>\n",
       "      <td>0</td>\n",
       "      <td>yes</td>\n",
       "      <td>died</td>\n",
       "    </tr>\n",
       "    <tr>\n",
       "      <th>8</th>\n",
       "      <td>8</td>\n",
       "      <td>no</td>\n",
       "      <td>adult</td>\n",
       "      <td>528742</td>\n",
       "      <td>37.4</td>\n",
       "      <td>48.0</td>\n",
       "      <td>12.0</td>\n",
       "      <td>cool</td>\n",
       "      <td>reduced</td>\n",
       "      <td>normal_pink</td>\n",
       "      <td>less_3_sec</td>\n",
       "      <td>alert</td>\n",
       "      <td>hypermotile</td>\n",
       "      <td>slight</td>\n",
       "      <td>slight</td>\n",
       "      <td>more_1_liter</td>\n",
       "      <td>7.0</td>\n",
       "      <td>normal</td>\n",
       "      <td>firm</td>\n",
       "      <td>40.0</td>\n",
       "      <td>7.8</td>\n",
       "      <td>cloudy</td>\n",
       "      <td>2.6</td>\n",
       "      <td>no</td>\n",
       "      <td>0</td>\n",
       "      <td>0</td>\n",
       "      <td>0</td>\n",
       "      <td>yes</td>\n",
       "      <td>lived</td>\n",
       "    </tr>\n",
       "    <tr>\n",
       "      <th>9</th>\n",
       "      <td>9</td>\n",
       "      <td>yes</td>\n",
       "      <td>adult</td>\n",
       "      <td>529640</td>\n",
       "      <td>38.3</td>\n",
       "      <td>129.0</td>\n",
       "      <td>48.0</td>\n",
       "      <td>cool</td>\n",
       "      <td>reduced</td>\n",
       "      <td>pale_pink</td>\n",
       "      <td>less_3_sec</td>\n",
       "      <td>depressed</td>\n",
       "      <td>absent</td>\n",
       "      <td>moderate</td>\n",
       "      <td>slight</td>\n",
       "      <td>none</td>\n",
       "      <td>4.4</td>\n",
       "      <td>NaN</td>\n",
       "      <td>NaN</td>\n",
       "      <td>57.0</td>\n",
       "      <td>4.9</td>\n",
       "      <td>cloudy</td>\n",
       "      <td>2.9</td>\n",
       "      <td>yes</td>\n",
       "      <td>3209</td>\n",
       "      <td>0</td>\n",
       "      <td>0</td>\n",
       "      <td>yes</td>\n",
       "      <td>died</td>\n",
       "    </tr>\n",
       "  </tbody>\n",
       "</table>\n",
       "</div>"
      ],
      "text/plain": [
       "   id surgery    age  hospital_number  rectal_temp  pulse  respiratory_rate  \\\n",
       "0   0     yes  adult           530001         38.1  132.0              24.0   \n",
       "1   1     yes  adult           533836         37.5   88.0              12.0   \n",
       "2   2     yes  adult           529812         38.3  120.0              28.0   \n",
       "3   3     yes  adult          5262541         37.1   72.0              30.0   \n",
       "4   4      no  adult          5299629         38.0   52.0              48.0   \n",
       "5   5      no  adult           529642         38.1   56.0              32.0   \n",
       "6   6     yes  adult           534787         38.3   36.0              16.0   \n",
       "7   7      no  adult           529461         39.2  114.0              24.0   \n",
       "8   8      no  adult           528742         37.4   48.0              12.0   \n",
       "9   9     yes  adult           529640         38.3  129.0              48.0   \n",
       "\n",
       "  temp_of_extremities peripheral_pulse mucous_membrane capillary_refill_time  \\\n",
       "0                cool          reduced   dark_cyanotic            more_3_sec   \n",
       "1                cool           normal   pale_cyanotic            more_3_sec   \n",
       "2                cool          reduced       pale_pink            less_3_sec   \n",
       "3                cold          reduced       pale_pink            more_3_sec   \n",
       "4              normal           normal     normal_pink            less_3_sec   \n",
       "5              normal           normal     bright_pink            less_3_sec   \n",
       "6                cool          reduced     normal_pink            less_3_sec   \n",
       "7                cool          reduced   pale_cyanotic            more_3_sec   \n",
       "8                cool          reduced     normal_pink            less_3_sec   \n",
       "9                cool          reduced       pale_pink            less_3_sec   \n",
       "\n",
       "           pain  peristalsis abdominal_distention nasogastric_tube  \\\n",
       "0     depressed       absent               slight           slight   \n",
       "1     mild_pain       absent             moderate             none   \n",
       "2  extreme_pain   hypomotile             moderate           slight   \n",
       "3     mild_pain   hypomotile             moderate           slight   \n",
       "4         alert   hypomotile                 none           slight   \n",
       "5     depressed   hypomotile                 none             none   \n",
       "6   severe_pain       normal               slight             none   \n",
       "7     mild_pain   hypomotile             moderate           slight   \n",
       "8         alert  hypermotile               slight           slight   \n",
       "9     depressed       absent             moderate           slight   \n",
       "\n",
       "  nasogastric_reflux  nasogastric_reflux_ph rectal_exam_feces        abdomen  \\\n",
       "0       less_1_liter                    6.5         decreased  distend_small   \n",
       "1       more_1_liter                    2.0            absent  distend_small   \n",
       "2               none                    3.5               NaN  distend_large   \n",
       "3       more_1_liter                    2.0         decreased  distend_small   \n",
       "4       less_1_liter                    7.0            normal         normal   \n",
       "5       more_1_liter                    5.0         decreased           firm   \n",
       "6       more_1_liter                    2.0         decreased            NaN   \n",
       "7               none                    4.5            absent  distend_small   \n",
       "8       more_1_liter                    7.0            normal           firm   \n",
       "9               none                    4.4               NaN            NaN   \n",
       "\n",
       "   packed_cell_volume  total_protein abdomo_appearance  abdomo_protein  \\\n",
       "0                57.0            8.5     serosanguious             3.4   \n",
       "1                33.0           64.0     serosanguious             2.0   \n",
       "2                37.0            6.4     serosanguious             3.4   \n",
       "3                53.0            7.0            cloudy             3.9   \n",
       "4                47.0            7.3            cloudy             2.6   \n",
       "5                49.0            8.0            cloudy             2.8   \n",
       "6                43.0           75.0            cloudy             1.0   \n",
       "7                57.0            7.6     serosanguious             4.5   \n",
       "8                40.0            7.8            cloudy             2.6   \n",
       "9                57.0            4.9            cloudy             2.9   \n",
       "\n",
       "  surgical_lesion  lesion_1  lesion_2  lesion_3 cp_data     outcome  \n",
       "0             yes      2209         0         0      no        died  \n",
       "1             yes      2208         0         0      no  euthanized  \n",
       "2             yes      5124         0         0      no       lived  \n",
       "3             yes      2208         0         0     yes       lived  \n",
       "4              no         0         0         0     yes       lived  \n",
       "5              no         0         0         0     yes       lived  \n",
       "6              no      3111         0         0     yes  euthanized  \n",
       "7             yes      2207         0         0     yes        died  \n",
       "8              no         0         0         0     yes       lived  \n",
       "9             yes      3209         0         0     yes        died  "
      ]
     },
     "execution_count": 14,
     "metadata": {},
     "output_type": "execute_result"
    }
   ],
   "source": [
    "df_train.head(10)"
   ]
  },
  {
   "cell_type": "code",
   "execution_count": 13,
   "metadata": {},
   "outputs": [
    {
     "name": "stdout",
     "output_type": "stream",
     "text": [
      "<class 'pandas.core.frame.DataFrame'>\n",
      "RangeIndex: 1235 entries, 0 to 1234\n",
      "Data columns (total 29 columns):\n",
      " #   Column                 Non-Null Count  Dtype  \n",
      "---  ------                 --------------  -----  \n",
      " 0   id                     1235 non-null   int64  \n",
      " 1   surgery                1235 non-null   object \n",
      " 2   age                    1235 non-null   object \n",
      " 3   hospital_number        1235 non-null   int64  \n",
      " 4   rectal_temp            1235 non-null   float64\n",
      " 5   pulse                  1235 non-null   float64\n",
      " 6   respiratory_rate       1235 non-null   float64\n",
      " 7   temp_of_extremities    1196 non-null   object \n",
      " 8   peripheral_pulse       1175 non-null   object \n",
      " 9   mucous_membrane        1214 non-null   object \n",
      " 10  capillary_refill_time  1229 non-null   object \n",
      " 11  pain                   1191 non-null   object \n",
      " 12  peristalsis            1215 non-null   object \n",
      " 13  abdominal_distention   1212 non-null   object \n",
      " 14  nasogastric_tube       1155 non-null   object \n",
      " 15  nasogastric_reflux     1214 non-null   object \n",
      " 16  nasogastric_reflux_ph  1235 non-null   float64\n",
      " 17  rectal_exam_feces      1045 non-null   object \n",
      " 18  abdomen                1022 non-null   object \n",
      " 19  packed_cell_volume     1235 non-null   float64\n",
      " 20  total_protein          1235 non-null   float64\n",
      " 21  abdomo_appearance      1187 non-null   object \n",
      " 22  abdomo_protein         1235 non-null   float64\n",
      " 23  surgical_lesion        1235 non-null   object \n",
      " 24  lesion_1               1235 non-null   int64  \n",
      " 25  lesion_2               1235 non-null   int64  \n",
      " 26  lesion_3               1235 non-null   int64  \n",
      " 27  cp_data                1235 non-null   object \n",
      " 28  outcome                1235 non-null   object \n",
      "dtypes: float64(7), int64(5), object(17)\n",
      "memory usage: 279.9+ KB\n"
     ]
    }
   ],
   "source": [
    "df_train.info()"
   ]
  },
  {
   "cell_type": "code",
   "execution_count": 15,
   "metadata": {},
   "outputs": [
    {
     "data": {
      "text/html": [
       "<div>\n",
       "<style scoped>\n",
       "    .dataframe tbody tr th:only-of-type {\n",
       "        vertical-align: middle;\n",
       "    }\n",
       "\n",
       "    .dataframe tbody tr th {\n",
       "        vertical-align: top;\n",
       "    }\n",
       "\n",
       "    .dataframe thead th {\n",
       "        text-align: right;\n",
       "    }\n",
       "</style>\n",
       "<table border=\"1\" class=\"dataframe\">\n",
       "  <thead>\n",
       "    <tr style=\"text-align: right;\">\n",
       "      <th></th>\n",
       "      <th>id</th>\n",
       "      <th>hospital_number</th>\n",
       "      <th>rectal_temp</th>\n",
       "      <th>pulse</th>\n",
       "      <th>respiratory_rate</th>\n",
       "      <th>nasogastric_reflux_ph</th>\n",
       "      <th>packed_cell_volume</th>\n",
       "      <th>total_protein</th>\n",
       "      <th>abdomo_protein</th>\n",
       "      <th>lesion_1</th>\n",
       "      <th>lesion_2</th>\n",
       "      <th>lesion_3</th>\n",
       "    </tr>\n",
       "  </thead>\n",
       "  <tbody>\n",
       "    <tr>\n",
       "      <th>count</th>\n",
       "      <td>1235.0000</td>\n",
       "      <td>1.235000e+03</td>\n",
       "      <td>1235.000000</td>\n",
       "      <td>1235.000000</td>\n",
       "      <td>1235.000000</td>\n",
       "      <td>1235.000000</td>\n",
       "      <td>1235.000000</td>\n",
       "      <td>1235.000000</td>\n",
       "      <td>1235.000000</td>\n",
       "      <td>1235.000000</td>\n",
       "      <td>1235.000000</td>\n",
       "      <td>1235.000000</td>\n",
       "    </tr>\n",
       "    <tr>\n",
       "      <th>mean</th>\n",
       "      <td>617.0000</td>\n",
       "      <td>9.545004e+05</td>\n",
       "      <td>38.202186</td>\n",
       "      <td>79.574089</td>\n",
       "      <td>30.054251</td>\n",
       "      <td>4.382591</td>\n",
       "      <td>49.602429</td>\n",
       "      <td>21.388016</td>\n",
       "      <td>3.290931</td>\n",
       "      <td>3832.496356</td>\n",
       "      <td>14.612146</td>\n",
       "      <td>3.577328</td>\n",
       "    </tr>\n",
       "    <tr>\n",
       "      <th>std</th>\n",
       "      <td>356.6581</td>\n",
       "      <td>1.356403e+06</td>\n",
       "      <td>0.788668</td>\n",
       "      <td>29.108638</td>\n",
       "      <td>16.452066</td>\n",
       "      <td>1.937357</td>\n",
       "      <td>10.535800</td>\n",
       "      <td>26.676453</td>\n",
       "      <td>1.589195</td>\n",
       "      <td>5436.733774</td>\n",
       "      <td>193.705735</td>\n",
       "      <td>88.858953</td>\n",
       "    </tr>\n",
       "    <tr>\n",
       "      <th>min</th>\n",
       "      <td>0.0000</td>\n",
       "      <td>5.213990e+05</td>\n",
       "      <td>35.400000</td>\n",
       "      <td>30.000000</td>\n",
       "      <td>8.000000</td>\n",
       "      <td>1.000000</td>\n",
       "      <td>23.000000</td>\n",
       "      <td>3.500000</td>\n",
       "      <td>0.100000</td>\n",
       "      <td>0.000000</td>\n",
       "      <td>0.000000</td>\n",
       "      <td>0.000000</td>\n",
       "    </tr>\n",
       "    <tr>\n",
       "      <th>25%</th>\n",
       "      <td>308.5000</td>\n",
       "      <td>5.288000e+05</td>\n",
       "      <td>37.800000</td>\n",
       "      <td>53.000000</td>\n",
       "      <td>18.000000</td>\n",
       "      <td>2.000000</td>\n",
       "      <td>43.000000</td>\n",
       "      <td>6.600000</td>\n",
       "      <td>2.000000</td>\n",
       "      <td>2205.000000</td>\n",
       "      <td>0.000000</td>\n",
       "      <td>0.000000</td>\n",
       "    </tr>\n",
       "    <tr>\n",
       "      <th>50%</th>\n",
       "      <td>617.0000</td>\n",
       "      <td>5.297770e+05</td>\n",
       "      <td>38.200000</td>\n",
       "      <td>76.000000</td>\n",
       "      <td>28.000000</td>\n",
       "      <td>4.500000</td>\n",
       "      <td>48.000000</td>\n",
       "      <td>7.500000</td>\n",
       "      <td>3.000000</td>\n",
       "      <td>2209.000000</td>\n",
       "      <td>0.000000</td>\n",
       "      <td>0.000000</td>\n",
       "    </tr>\n",
       "    <tr>\n",
       "      <th>75%</th>\n",
       "      <td>925.5000</td>\n",
       "      <td>5.341450e+05</td>\n",
       "      <td>38.600000</td>\n",
       "      <td>100.000000</td>\n",
       "      <td>36.000000</td>\n",
       "      <td>6.000000</td>\n",
       "      <td>57.000000</td>\n",
       "      <td>9.100000</td>\n",
       "      <td>4.300000</td>\n",
       "      <td>3205.000000</td>\n",
       "      <td>0.000000</td>\n",
       "      <td>0.000000</td>\n",
       "    </tr>\n",
       "    <tr>\n",
       "      <th>max</th>\n",
       "      <td>1234.0000</td>\n",
       "      <td>5.305129e+06</td>\n",
       "      <td>40.800000</td>\n",
       "      <td>184.000000</td>\n",
       "      <td>96.000000</td>\n",
       "      <td>7.500000</td>\n",
       "      <td>75.000000</td>\n",
       "      <td>89.000000</td>\n",
       "      <td>10.100000</td>\n",
       "      <td>41110.000000</td>\n",
       "      <td>3112.000000</td>\n",
       "      <td>2209.000000</td>\n",
       "    </tr>\n",
       "  </tbody>\n",
       "</table>\n",
       "</div>"
      ],
      "text/plain": [
       "              id  hospital_number  rectal_temp        pulse  respiratory_rate  \\\n",
       "count  1235.0000     1.235000e+03  1235.000000  1235.000000       1235.000000   \n",
       "mean    617.0000     9.545004e+05    38.202186    79.574089         30.054251   \n",
       "std     356.6581     1.356403e+06     0.788668    29.108638         16.452066   \n",
       "min       0.0000     5.213990e+05    35.400000    30.000000          8.000000   \n",
       "25%     308.5000     5.288000e+05    37.800000    53.000000         18.000000   \n",
       "50%     617.0000     5.297770e+05    38.200000    76.000000         28.000000   \n",
       "75%     925.5000     5.341450e+05    38.600000   100.000000         36.000000   \n",
       "max    1234.0000     5.305129e+06    40.800000   184.000000         96.000000   \n",
       "\n",
       "       nasogastric_reflux_ph  packed_cell_volume  total_protein  \\\n",
       "count            1235.000000         1235.000000    1235.000000   \n",
       "mean                4.382591           49.602429      21.388016   \n",
       "std                 1.937357           10.535800      26.676453   \n",
       "min                 1.000000           23.000000       3.500000   \n",
       "25%                 2.000000           43.000000       6.600000   \n",
       "50%                 4.500000           48.000000       7.500000   \n",
       "75%                 6.000000           57.000000       9.100000   \n",
       "max                 7.500000           75.000000      89.000000   \n",
       "\n",
       "       abdomo_protein      lesion_1     lesion_2     lesion_3  \n",
       "count     1235.000000   1235.000000  1235.000000  1235.000000  \n",
       "mean         3.290931   3832.496356    14.612146     3.577328  \n",
       "std          1.589195   5436.733774   193.705735    88.858953  \n",
       "min          0.100000      0.000000     0.000000     0.000000  \n",
       "25%          2.000000   2205.000000     0.000000     0.000000  \n",
       "50%          3.000000   2209.000000     0.000000     0.000000  \n",
       "75%          4.300000   3205.000000     0.000000     0.000000  \n",
       "max         10.100000  41110.000000  3112.000000  2209.000000  "
      ]
     },
     "execution_count": 15,
     "metadata": {},
     "output_type": "execute_result"
    }
   ],
   "source": [
    "df_train.describe(exclude=\"object\")"
   ]
  },
  {
   "cell_type": "code",
   "execution_count": 16,
   "metadata": {},
   "outputs": [
    {
     "data": {
      "text/html": [
       "<div>\n",
       "<style scoped>\n",
       "    .dataframe tbody tr th:only-of-type {\n",
       "        vertical-align: middle;\n",
       "    }\n",
       "\n",
       "    .dataframe tbody tr th {\n",
       "        vertical-align: top;\n",
       "    }\n",
       "\n",
       "    .dataframe thead th {\n",
       "        text-align: right;\n",
       "    }\n",
       "</style>\n",
       "<table border=\"1\" class=\"dataframe\">\n",
       "  <thead>\n",
       "    <tr style=\"text-align: right;\">\n",
       "      <th></th>\n",
       "      <th>surgery</th>\n",
       "      <th>age</th>\n",
       "      <th>temp_of_extremities</th>\n",
       "      <th>peripheral_pulse</th>\n",
       "      <th>mucous_membrane</th>\n",
       "      <th>capillary_refill_time</th>\n",
       "      <th>pain</th>\n",
       "      <th>peristalsis</th>\n",
       "      <th>abdominal_distention</th>\n",
       "      <th>nasogastric_tube</th>\n",
       "      <th>nasogastric_reflux</th>\n",
       "      <th>rectal_exam_feces</th>\n",
       "      <th>abdomen</th>\n",
       "      <th>abdomo_appearance</th>\n",
       "      <th>surgical_lesion</th>\n",
       "      <th>cp_data</th>\n",
       "      <th>outcome</th>\n",
       "    </tr>\n",
       "  </thead>\n",
       "  <tbody>\n",
       "    <tr>\n",
       "      <th>count</th>\n",
       "      <td>1235</td>\n",
       "      <td>1235</td>\n",
       "      <td>1196</td>\n",
       "      <td>1175</td>\n",
       "      <td>1214</td>\n",
       "      <td>1229</td>\n",
       "      <td>1191</td>\n",
       "      <td>1215</td>\n",
       "      <td>1212</td>\n",
       "      <td>1155</td>\n",
       "      <td>1214</td>\n",
       "      <td>1045</td>\n",
       "      <td>1022</td>\n",
       "      <td>1187</td>\n",
       "      <td>1235</td>\n",
       "      <td>1235</td>\n",
       "      <td>1235</td>\n",
       "    </tr>\n",
       "    <tr>\n",
       "      <th>unique</th>\n",
       "      <td>2</td>\n",
       "      <td>2</td>\n",
       "      <td>4</td>\n",
       "      <td>4</td>\n",
       "      <td>6</td>\n",
       "      <td>3</td>\n",
       "      <td>6</td>\n",
       "      <td>5</td>\n",
       "      <td>4</td>\n",
       "      <td>3</td>\n",
       "      <td>4</td>\n",
       "      <td>5</td>\n",
       "      <td>5</td>\n",
       "      <td>3</td>\n",
       "      <td>2</td>\n",
       "      <td>2</td>\n",
       "      <td>3</td>\n",
       "    </tr>\n",
       "    <tr>\n",
       "      <th>top</th>\n",
       "      <td>yes</td>\n",
       "      <td>adult</td>\n",
       "      <td>cool</td>\n",
       "      <td>reduced</td>\n",
       "      <td>pale_pink</td>\n",
       "      <td>less_3_sec</td>\n",
       "      <td>depressed</td>\n",
       "      <td>hypomotile</td>\n",
       "      <td>moderate</td>\n",
       "      <td>slight</td>\n",
       "      <td>more_1_liter</td>\n",
       "      <td>absent</td>\n",
       "      <td>distend_small</td>\n",
       "      <td>serosanguious</td>\n",
       "      <td>yes</td>\n",
       "      <td>yes</td>\n",
       "      <td>lived</td>\n",
       "    </tr>\n",
       "    <tr>\n",
       "      <th>freq</th>\n",
       "      <td>887</td>\n",
       "      <td>1160</td>\n",
       "      <td>700</td>\n",
       "      <td>724</td>\n",
       "      <td>284</td>\n",
       "      <td>834</td>\n",
       "      <td>429</td>\n",
       "      <td>664</td>\n",
       "      <td>543</td>\n",
       "      <td>758</td>\n",
       "      <td>604</td>\n",
       "      <td>493</td>\n",
       "      <td>482</td>\n",
       "      <td>570</td>\n",
       "      <td>929</td>\n",
       "      <td>668</td>\n",
       "      <td>574</td>\n",
       "    </tr>\n",
       "  </tbody>\n",
       "</table>\n",
       "</div>"
      ],
      "text/plain": [
       "       surgery    age temp_of_extremities peripheral_pulse mucous_membrane  \\\n",
       "count     1235   1235                1196             1175            1214   \n",
       "unique       2      2                   4                4               6   \n",
       "top        yes  adult                cool          reduced       pale_pink   \n",
       "freq       887   1160                 700              724             284   \n",
       "\n",
       "       capillary_refill_time       pain peristalsis abdominal_distention  \\\n",
       "count                   1229       1191        1215                 1212   \n",
       "unique                     3          6           5                    4   \n",
       "top               less_3_sec  depressed  hypomotile             moderate   \n",
       "freq                     834        429         664                  543   \n",
       "\n",
       "       nasogastric_tube nasogastric_reflux rectal_exam_feces        abdomen  \\\n",
       "count              1155               1214              1045           1022   \n",
       "unique                3                  4                 5              5   \n",
       "top              slight       more_1_liter            absent  distend_small   \n",
       "freq                758                604               493            482   \n",
       "\n",
       "       abdomo_appearance surgical_lesion cp_data outcome  \n",
       "count               1187            1235    1235    1235  \n",
       "unique                 3               2       2       3  \n",
       "top        serosanguious             yes     yes   lived  \n",
       "freq                 570             929     668     574  "
      ]
     },
     "execution_count": 16,
     "metadata": {},
     "output_type": "execute_result"
    }
   ],
   "source": [
    "df_train.describe(include=\"object\")"
   ]
  },
  {
   "cell_type": "markdown",
   "metadata": {},
   "source": [
    "<p style=\"font-family:JetBrains Mono; font-weight:bold; letter-spacing: 2px; color:#007fd4; font-size:140%; text-align:left;padding: 0px;\"> Data Checks to perform </p>\n",
    "\n",
    "- Check Missing values\n",
    "- Check Duplicates\n",
    "- Check data type\n",
    "- Check the number of unique values of each column\n",
    "- Check statistics of data set\n",
    "- Check various categories present in the different categorical column\n",
    "\n",
    "#### Check Missing values"
   ]
  },
  {
   "cell_type": "code",
   "execution_count": 21,
   "metadata": {},
   "outputs": [
    {
     "data": {
      "text/plain": [
       "temp_of_extremities       39\n",
       "peripheral_pulse          60\n",
       "mucous_membrane           21\n",
       "capillary_refill_time      6\n",
       "pain                      44\n",
       "peristalsis               20\n",
       "abdominal_distention      23\n",
       "nasogastric_tube          80\n",
       "nasogastric_reflux        21\n",
       "rectal_exam_feces        190\n",
       "abdomen                  213\n",
       "abdomo_appearance         48\n",
       "dtype: int64"
      ]
     },
     "execution_count": 21,
     "metadata": {},
     "output_type": "execute_result"
    }
   ],
   "source": [
    "# Null values\n",
    "Column_with_na = df_train.isnull().sum()\n",
    "Column_with_na[Column_with_na > 0]"
   ]
  },
  {
   "cell_type": "code",
   "execution_count": 24,
   "metadata": {},
   "outputs": [
    {
     "name": "stdout",
     "output_type": "stream",
     "text": [
      "temp_of_extremities 3.1579  % missing\n",
      "peripheral_pulse 4.8583  % missing\n",
      "mucous_membrane 1.7004  % missing\n",
      "capillary_refill_time 0.4858  % missing\n",
      "pain 3.5628  % missing\n",
      "peristalsis 1.6194  % missing\n",
      "abdominal_distention 1.8623  % missing\n",
      "nasogastric_tube 6.4777  % missing\n",
      "nasogastric_reflux 1.7004  % missing\n",
      "rectal_exam_feces 15.3846  % missing\n",
      "abdomen 17.247  % missing\n",
      "abdomo_appearance 3.8866  % missing\n"
     ]
    }
   ],
   "source": [
    "## Here we will check the percentage of nan values present in each feature\n",
    "feature_na = [feature for feature in df_train.columns if df_train[feature].isnull().sum() > 0 ]\n",
    "\n",
    "for feature in feature_na:\n",
    "    print(feature, np.round(df_train[feature].isnull().mean() * 100,4), \" % missing\")"
   ]
  },
  {
   "cell_type": "code",
   "execution_count": 26,
   "metadata": {},
   "outputs": [
    {
     "data": {
      "text/plain": [
       "abdomen              17.246964\n",
       "rectal_exam_feces    15.384615\n",
       "dtype: float64"
      ]
     },
     "execution_count": 26,
     "metadata": {},
     "output_type": "execute_result"
    }
   ],
   "source": [
    "# Null valuse percentage greater than 10%\n",
    "columns_with_null_values_total = (df_train.isnull().sum() / len(df_train)) * 100\n",
    "columns_with_null_values_percentage = columns_with_null_values_total[columns_with_null_values_total > 10].sort_values(ascending=False)\n",
    "\n",
    "columns_with_null_values_percentage"
   ]
  },
  {
   "cell_type": "markdown",
   "metadata": {},
   "source": [
    "<b>observation:</b> There are many missing values. The features abdomen, and rectal_exam_feces are missing more than 10%\n",
    "\n",
    "Let's plot some diagram for this relationship"
   ]
  },
  {
   "cell_type": "code",
   "execution_count": 28,
   "metadata": {},
   "outputs": [
    {
     "data": {
      "image/png": "[encoded data removed]",
      "text/plain": [
       "<Figure size 640x480 with 1 Axes>"
      ]
     },
     "metadata": {},
     "output_type": "display_data"
    },
    {
     "data": {
      "image/png": "[encoded data removed]",
      "text/plain": [
       "<Figure size 640x480 with 1 Axes>"
      ]
     },
     "metadata": {},
     "output_type": "display_data"
    },
    {
     "data": {
      "image/png": "[encoded data removed]",
      "text/plain": [
       "<Figure size 640x480 with 1 Axes>"
      ]
     },
     "metadata": {},
     "output_type": "display_data"
    },
    {
     "data": {
      "image/png": "[encoded data removed]",
      "text/plain": [
       "<Figure size 640x480 with 1 Axes>"
      ]
     },
     "metadata": {},
     "output_type": "display_data"
    },
    {
     "data": {
      "image/png": "[encoded data removed]",
      "text/plain": [
       "<Figure size 640x480 with 1 Axes>"
      ]
     },
     "metadata": {},
     "output_type": "display_data"
    },
    {
     "data": {
      "image/png": "[encoded data removed]",
      "text/plain": [
       "<Figure size 640x480 with 1 Axes>"
      ]
     },
     "metadata": {},
     "output_type": "display_data"
    },
    {
     "data": {
      "image/png": "[encoded data removed]",
      "text/plain": [
       "<Figure size 640x480 with 1 Axes>"
      ]
     },
     "metadata": {},
     "output_type": "display_data"
    },
    {
     "data": {
      "image/png": "[encoded data removed]",
      "text/plain": [
       "<Figure size 640x480 with 1 Axes>"
      ]
     },
     "metadata": {},
     "output_type": "display_data"
    },
    {
     "data": {
      "image/png": "[encoded data removed]",
      "text/plain": [
       "<Figure size 640x480 with 1 Axes>"
      ]
     },
     "metadata": {},
     "output_type": "display_data"
    },
    {
     "data": {
      "image/png": "[encoded data removed]",
      "text/plain": [
       "<Figure size 640x480 with 1 Axes>"
      ]
     },
     "metadata": {},
     "output_type": "display_data"
    },
    {
     "data": {
      "image/png": "[encoded data removed]",
      "text/plain": [
       "<Figure size 640x480 with 1 Axes>"
      ]
     },
     "metadata": {},
     "output_type": "display_data"
    },
    {
     "data": {
      "image/png": "[encoded data removed]",
      "text/plain": [
       "<Figure size 640x480 with 1 Axes>"
      ]
     },
     "metadata": {},
     "output_type": "display_data"
    }
   ],
   "source": [
    "for feature in feature_na:\n",
    "    data = df_train.copy()\n",
    "    \n",
    "    # let's make a variable that indicates 1 if the observation was missing or zero otherwise\n",
    "    data[feature] = np.where(data[feature].isnull(), 1, 0)\n",
    "    \n",
    "    # let's calculate the mean Stroke where the information is missing or present\n",
    "    data.groupby(feature)[\"outcome\"].count().plot.bar()\n",
    "    plt.title(feature)\n",
    "    plt.show()"
   ]
  },
  {
   "cell_type": "markdown",
   "metadata": {},
   "source": [
    "Here With the relation between the missing values and the dependent variable is clearly visible.So We need to replace these nan values with something meaningful"
   ]
  },
  {
   "cell_type": "markdown",
   "metadata": {},
   "source": [
    "#### Check Duplicates"
   ]
  },
  {
   "cell_type": "code",
   "execution_count": 29,
   "metadata": {},
   "outputs": [
    {
     "data": {
      "text/plain": [
       "0"
      ]
     },
     "execution_count": 29,
     "metadata": {},
     "output_type": "execute_result"
    }
   ],
   "source": [
    "df_train.duplicated().sum()"
   ]
  },
  {
   "cell_type": "code",
   "execution_count": 31,
   "metadata": {},
   "outputs": [
    {
     "data": {
      "text/plain": [
       "0"
      ]
     },
     "execution_count": 31,
     "metadata": {},
     "output_type": "execute_result"
    }
   ],
   "source": [
    "df_test.duplicated().sum()"
   ]
  },
  {
   "cell_type": "markdown",
   "metadata": {},
   "source": [
    "#### Check the number of unique values of each column\n",
    "\n",
    "To better organize our data, let's divide our features into two types: \n",
    "1) categorical \n",
    "\n",
    "2) numerical."
   ]
  },
  {
   "cell_type": "code",
   "execution_count": 32,
   "metadata": {},
   "outputs": [
    {
     "name": "stdout",
     "output_type": "stream",
     "text": [
      "Categorical Features: ['surgery', 'age', 'temp_of_extremities', 'peripheral_pulse', 'mucous_membrane', 'capillary_refill_time', 'pain', 'peristalsis', 'abdominal_distention', 'nasogastric_tube', 'nasogastric_reflux', 'rectal_exam_feces', 'abdomen', 'abdomo_appearance', 'surgical_lesion', 'cp_data', 'outcome']\n",
      "Numerical Features: ['id', 'hospital_number', 'rectal_temp', 'pulse', 'respiratory_rate', 'nasogastric_reflux_ph', 'packed_cell_volume', 'total_protein', 'abdomo_protein', 'lesion_1', 'lesion_2', 'lesion_3']\n"
     ]
    }
   ],
   "source": [
    "feature_cat = df_train.select_dtypes(include = [\"object\"]).columns.to_list()\n",
    "print(\"Categorical Features:\", feature_cat)\n",
    "\n",
    "feature_num = df_train.select_dtypes(exclude = [\"object\"]).columns.to_list()\n",
    "print(\"Numerical Features:\",feature_num)"
   ]
  },
  {
   "cell_type": "code",
   "execution_count": 33,
   "metadata": {},
   "outputs": [
    {
     "name": "stdout",
     "output_type": "stream",
     "text": [
      "Train Dataset Categorical Feature Uniqueness:\n",
      "************************************************************\n",
      "surgery: Unique Count: 2\n",
      " ['yes' 'no']\n",
      "\n",
      "age: Unique Count: 2\n",
      " ['adult' 'young']\n",
      "\n",
      "temp_of_extremities: Unique Count: 5\n",
      " ['cool' 'cold' 'normal' 'warm' nan]\n",
      "\n",
      "peripheral_pulse: Unique Count: 5\n",
      " ['reduced' 'normal' nan 'absent' 'increased']\n",
      "\n",
      "mucous_membrane: Unique Count: 7\n",
      " ['dark_cyanotic' 'pale_cyanotic' 'pale_pink' 'normal_pink' 'bright_pink'\n",
      " 'bright_red' nan]\n",
      "\n",
      "capillary_refill_time: Unique Count: 4\n",
      " ['more_3_sec' 'less_3_sec' nan '3']\n",
      "\n",
      "pain: Unique Count: 7\n",
      " ['depressed' 'mild_pain' 'extreme_pain' 'alert' 'severe_pain' nan 'slight']\n",
      "\n",
      "peristalsis: Unique Count: 6\n",
      " ['absent' 'hypomotile' 'normal' 'hypermotile' nan 'distend_small']\n",
      "\n",
      "abdominal_distention: Unique Count: 5\n",
      " ['slight' 'moderate' 'none' 'severe' nan]\n",
      "\n",
      "nasogastric_tube: Unique Count: 4\n",
      " ['slight' 'none' 'significant' nan]\n",
      "\n",
      "nasogastric_reflux: Unique Count: 5\n",
      " ['less_1_liter' 'more_1_liter' 'none' nan 'slight']\n",
      "\n",
      "rectal_exam_feces: Unique Count: 6\n",
      " ['decreased' 'absent' nan 'normal' 'increased' 'serosanguious']\n",
      "\n",
      "abdomen: Unique Count: 6\n",
      " ['distend_small' 'distend_large' 'normal' 'firm' nan 'other']\n",
      "\n",
      "abdomo_appearance: Unique Count: 4\n",
      " ['serosanguious' 'cloudy' 'clear' nan]\n",
      "\n",
      "surgical_lesion: Unique Count: 2\n",
      " ['yes' 'no']\n",
      "\n",
      "cp_data: Unique Count: 2\n",
      " ['no' 'yes']\n",
      "\n",
      "outcome: Unique Count: 3\n",
      " ['died' 'euthanized' 'lived']\n",
      "\n"
     ]
    }
   ],
   "source": [
    "print(\"Train Dataset Categorical Feature Uniqueness:\")\n",
    "print(\"*\" * 60)\n",
    "for feature in feature_cat:\n",
    "    print('{}: Unique Count: {}\\n {}\\n'.format(feature, len(df_train[feature].unique()), df_train[feature].unique()))"
   ]
  },
  {
   "cell_type": "code",
   "execution_count": 34,
   "metadata": {},
   "outputs": [
    {
     "name": "stdout",
     "output_type": "stream",
     "text": [
      "Train Dataset Numerical Feature Uniqueness:\n",
      "************************************************************\n",
      "id: Unique Count: 1235\n",
      "\n",
      "hospital_number: Unique Count: 255\n",
      "\n",
      "rectal_temp: Unique Count: 43\n",
      "\n",
      "pulse: Unique Count: 50\n",
      "\n",
      "respiratory_rate: Unique Count: 37\n",
      "\n",
      "nasogastric_reflux_ph: Unique Count: 26\n",
      "\n",
      "packed_cell_volume: Unique Count: 49\n",
      "\n",
      "total_protein: Unique Count: 83\n",
      "\n",
      "abdomo_protein: Unique Count: 54\n",
      "\n",
      "lesion_1: Unique Count: 57\n",
      "\n",
      "lesion_2: Unique Count: 4\n",
      " [   0 1400 3111 3112]\n",
      "\n",
      "lesion_3: Unique Count: 2\n",
      " [   0 2209]\n",
      "\n"
     ]
    }
   ],
   "source": [
    "print(\"Train Dataset Numerical Feature Uniqueness:\")\n",
    "print(\"*\" * 60)\n",
    "for feature in feature_num:\n",
    "    if len(df_train[feature].unique()) <= 5:\n",
    "        print('{}: Unique Count: {}\\n {}\\n'.format(feature, len(df_train[feature].unique()), df_train[feature].unique()))\n",
    "    else:\n",
    "        print('{}: Unique Count: {}\\n'.format(feature, len(df_train[feature].unique())))"
   ]
  },
  {
   "cell_type": "code",
   "execution_count": 44,
   "metadata": {},
   "outputs": [
    {
     "name": "stdout",
     "output_type": "stream",
     "text": [
      "The categories mismatch in training and test dataset\n"
     ]
    },
    {
     "data": {
      "text/plain": [
       "['pain', 'peristalsis', 'nasogastric_reflux', 'rectal_exam_feces']"
      ]
     },
     "execution_count": 44,
     "metadata": {},
     "output_type": "execute_result"
    }
   ],
   "source": [
    "mis_match = lrModel.categories_validation(df_train, df_test)\n",
    "mis_match"
   ]
  },
  {
   "cell_type": "markdown",
   "metadata": {},
   "source": [
    "<b>Observation:</b> Some columns contain inconsistent values that need to be addressed"
   ]
  },
  {
   "cell_type": "code",
   "execution_count": null,
   "metadata": {},
   "outputs": [],
   "source": []
  }
 ],
 "metadata": {
  "kernelspec": {
   "display_name": "Python 3",
   "language": "python",
   "name": "python3"
  },
  "language_info": {
   "codemirror_mode": {
    "name": "ipython",
    "version": 3
   },
   "file_extension": ".py",
   "mimetype": "text/x-python",
   "name": "python",
   "nbconvert_exporter": "python",
   "pygments_lexer": "ipython3",
   "version": "3.8.0"
  }
 },
 "nbformat": 4,
 "nbformat_minor": 2
}
